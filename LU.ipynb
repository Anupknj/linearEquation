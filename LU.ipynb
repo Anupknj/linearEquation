{
 "cells": [
  {
   "cell_type": "code",
   "execution_count": 25,
   "metadata": {},
   "outputs": [
    {
     "name": "stderr",
     "output_type": "stream",
     "text": [
      "C:\\Users\\anupk\\Anaconda3\\lib\\site-packages\\ipykernel_launcher.py:27: LinAlgWarning: Diagonal number 1 is exactly zero. Singular matrix.\n"
     ]
    }
   ],
   "source": [
    "# import necessary libraries\n",
    "\n",
    "import scipy\n",
    "import scipy.linalg as linalg \n",
    "import numpy as np\n",
    "import timeit\n",
    "\n",
    "\n",
    "run_time = []  # holds run time for all n\n",
    "                                                                                                                                                                                                                                                                                                                                                                                                              \n",
    "n = 3000 # dimensions\n",
    "\n",
    "#generates A b matrix (Ax=b) with randomly generated numbers\n",
    "\n",
    "def get_A_b(n):\n",
    "    A = np.random.randint(10, size=(n, n))\n",
    "    b = np.random.randint(10, size=(n, 1))\n",
    "    return A,b\n",
    "\n",
    "\n",
    "for i in range(1,n):\n",
    "    start = timeit.default_timer()   #start the timer \n",
    "\n",
    "    A,b = get_A_b(i) # get the matrix A and b\n",
    "    A = A\n",
    "    B = b\n",
    "    LU = linalg.lu_factor(A)  # get lower and higher of A\n",
    "    x = linalg.lu_solve(LU, B) # Ax = b and solve for x\n",
    "    #print(\"Solutions:\\n\",x) \n",
    "    P, L, U = scipy.linalg.lu(A) #FYI\n",
    "    stop = timeit.default_timer()  #stop the timer\n",
    "    \n",
    "    run_time.append(stop-start)  #store the runtime\n",
    "\n",
    "#     print(P) \n",
    "#     print(L) \n",
    "#     print(U)\n"
   ]
  },
  {
   "cell_type": "code",
   "execution_count": 26,
   "metadata": {},
   "outputs": [],
   "source": [
    "A,b = get_A_b(4) # trial"
   ]
  },
  {
   "cell_type": "code",
   "execution_count": 27,
   "metadata": {},
   "outputs": [
    {
     "data": {
      "text/plain": [
       "array([[6, 2, 7, 7],\n",
       "       [0, 4, 2, 9],\n",
       "       [8, 2, 6, 8],\n",
       "       [0, 8, 3, 0]])"
      ]
     },
     "execution_count": 27,
     "metadata": {},
     "output_type": "execute_result"
    }
   ],
   "source": [
    "A"
   ]
  },
  {
   "cell_type": "code",
   "execution_count": 28,
   "metadata": {},
   "outputs": [
    {
     "data": {
      "text/plain": [
       "array([[7],\n",
       "       [6],\n",
       "       [9],\n",
       "       [5]])"
      ]
     },
     "execution_count": 28,
     "metadata": {},
     "output_type": "execute_result"
    }
   ],
   "source": [
    "b"
   ]
  },
  {
   "cell_type": "code",
   "execution_count": 29,
   "metadata": {},
   "outputs": [
    {
     "data": {
      "image/png": "[encoded data removed]",
      "text/plain": [
       "<Figure size 280x210 with 1 Axes>"
      ]
     },
     "metadata": {
      "needs_background": "light"
     },
     "output_type": "display_data"
    }
   ],
   "source": [
    "# plot graph where x is runtime and y is n (log log)\n",
    "import matplotlib.pyplot as plt\n",
    "w = 4\n",
    "h = 3\n",
    "d = 70\n",
    "plt.figure(figsize=(w, h), dpi=d)\n",
    "x = list(range(1, n))\n",
    "y = run_time\n",
    "plt.loglog(x, y)\n",
    "plt.savefig(\"out.png\")"
   ]
  },
  {
   "cell_type": "code",
   "execution_count": null,
   "metadata": {},
   "outputs": [],
   "source": []
  },
  {
   "cell_type": "code",
   "execution_count": null,
   "metadata": {},
   "outputs": [],
   "source": []
  }
 ],
 "metadata": {
  "kernelspec": {
   "display_name": "Python 3",
   "language": "python",
   "name": "python3"
  },
  "language_info": {
   "codemirror_mode": {
    "name": "ipython",
    "version": 3
   },
   "file_extension": ".py",
   "mimetype": "text/x-python",
   "name": "python",
   "nbconvert_exporter": "python",
   "pygments_lexer": "ipython3",
   "version": "3.7.4"
  }
 },
 "nbformat": 4,
 "nbformat_minor": 2
}
